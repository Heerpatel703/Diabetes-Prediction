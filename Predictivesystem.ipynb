{
  "nbformat": 4,
  "nbformat_minor": 0,
  "metadata": {
    "colab": {
      "provenance": [],
      "authorship_tag": "ABX9TyOZkKnKtZq3CVcYgt9gG77H",
      "include_colab_link": true
    },
    "kernelspec": {
      "name": "python3",
      "display_name": "Python 3"
    },
    "language_info": {
      "name": "python"
    }
  },
  "cells": [
    {
      "cell_type": "markdown",
      "metadata": {
        "id": "view-in-github",
        "colab_type": "text"
      },
      "source": [
        "<a href=\"https://colab.research.google.com/github/Heerpatel703/Diabetes-Prediction/blob/main/Predictivesystem.ipynb\" target=\"_parent\"><img src=\"https://colab.research.google.com/assets/colab-badge.svg\" alt=\"Open In Colab\"/></a>"
      ]
    },
    {
      "cell_type": "code",
      "source": [
        "import numpy as np\n",
        "import pickle\n",
        "\n",
        "# loading the saved model\n",
        "loaded_model = pickle.load(open('/content/trained_model.sav', 'rb'))\n",
        "\n",
        "#Input data\n",
        "input_data = (8, 183, 64, 0, 0, 23.3, 0.672, 32)\n",
        "\n",
        "#change the inputdata to numpy array\n",
        "input_data_to_array = np.asarray(input_data)\n",
        "\n",
        "#reshape the array for one instance\n",
        "data_reshape = input_data_to_array.reshape(1,-1)\n",
        "\n",
        "#prediction\n",
        "pred = loaded_model.predict(data_reshape)\n",
        "print(pred)\n",
        "\n",
        "if pred[0] == 0 :\n",
        "  print(\"The person is not diabetic\")\n",
        "else :\n",
        "  print(\"The person is diabetic\")"
      ],
      "metadata": {
        "id": "XOLQYRQjA0fe",
        "colab": {
          "base_uri": "https://localhost:8080/"
        },
        "outputId": "e0b8020c-1001-4610-86b5-19c2512f050d"
      },
      "execution_count": 1,
      "outputs": [
        {
          "output_type": "stream",
          "name": "stdout",
          "text": [
            "[1]\n",
            "The person is diabetic\n"
          ]
        }
      ]
    }
  ]
}